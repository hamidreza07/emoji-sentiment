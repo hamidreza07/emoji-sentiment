{
 "cells": [
  {
   "cell_type": "markdown",
   "metadata": {},
   "source": [
    "## Text Classification"
   ]
  },
  {
   "cell_type": "code",
   "execution_count": 96,
   "metadata": {
    "collapsed": true
   },
   "outputs": [],
   "source": [
    "# -*- coding: utf-8 -*-\n",
    "from __future__ import unicode_literals\n",
    "from hazm import *\n",
    "import itertools\n",
    "import re\n",
    "from sklearn.feature_extraction.text import TfidfVectorizer\n",
    "from sklearn.model_selection import train_test_split\n",
    "from sklearn.svm import SVC\n",
    "from sklearn.metrics import confusion_matrix\n",
    "import glob, os\n",
    "from pandas_confusion import ConfusionMatrix\n",
    "import matplotlib.pyplot as plt\n",
    "from sklearn.metrics import f1_score\n",
    "from sklearn.metrics import accuracy_score,recall_score,precision_score,classification_report,confusion_matrix\n",
    "from sklearn.model_selection import cross_val_score\n",
    "from sklearn.model_selection import GridSearchCV\n",
    "import numpy as np\n",
    "import random\n",
    "from sklearn.ensemble import RandomForestClassifier\n",
    "from sklearn.naive_bayes import MultinomialNB\n",
    "from sklearn.pipeline import Pipeline\n",
    "import pickle\n",
    "import joblib\n",
    "import pandas as pd"
   ]
  },
  {
   "cell_type": "code",
   "execution_count": 97,
   "metadata": {},
   "outputs": [],
   "source": [
    "\n",
    "stwdfa = ['همچنان', 'مدت', 'چیز', 'سایر', 'جا', 'طی', 'کل', 'کنونی', 'بیرون','های', 'مثلا', 'کامل','ها', 'کاملا','گیرد','شود','است', 'آنکه', \n",
    "            'موارد', 'واقعی', 'امور', 'اکنون', 'بطور', 'بخشی', 'تحت', 'چگونه', 'عدم', 'نوعی', 'حاضر', 'وضع', 'مقابل', 'کنار', 'خویش', 'نگاه', 'درون',\n",
    "            'زمانی', 'بنابراین', 'تو', 'خیلی', 'بزرگ', 'خودش', 'جز', 'اینجا', 'مختلف', 'توسط', 'نوع', 'همچنین', 'آنجا', 'قبل', 'جناح', 'اینها', 'طور', 'شاید',\n",
    "            'ایشان', 'جهت', 'طریق', 'مانند', 'پیدا', 'ممکن', 'کسانی', 'جای', 'کسی', 'غیر', 'بی', 'قابل', 'درباره', 'جدید', 'وقتی', 'اخیر', 'چرا', 'بیش',\n",
    "            'روی', 'طرف', 'جریان', 'زیر', 'آنچه', 'البته', 'فقط', 'چیزی', 'چون', 'برابر', 'هنوز', 'بخش', 'زمینه', 'بین', 'بدون', 'استفاد', 'همان', 'نشان',\n",
    "            'بسیاری', 'بعد', 'عمل', 'روز', 'اعلام', 'چند', 'آنان', 'بلکه', 'امروز', 'تمام', 'بیشتر', 'آیا', 'برخی', 'علیه', 'دیگری', 'ویژه', 'گذشته', 'انجام',\n",
    "            'حتی', 'داده', 'راه', 'سوی', 'ولی', 'زمان', 'حال', 'تنها', 'بسیار', 'یعنی', 'عنوان', 'همین', 'هبچ', 'پیش', 'وی', 'یکی', 'اینکه', 'وجود'\n",
    "            , 'شما', 'پس', 'چنین', 'میان', 'مورد', 'چه', 'اگر', 'همه', 'نه', 'دیگر', 'آنها', 'باید', 'هر', 'او', 'ما', 'من', 'تا', 'نیز', 'اما', \n",
    "            'یک', 'خود', 'بر', 'یا', 'هم','ای', 'را','دارد', 'این',\"می\", 'با','دارد',',',',','.', 'آن', 'برای', 'و', 'در', 'به', 'که', 'از']\n"
   ]
  },
  {
   "cell_type": "code",
   "execution_count": 98,
   "metadata": {},
   "outputs": [],
   "source": [
    "stwden=['i', 'me', 'my', 'myself', 'we', 'our', 'ours', 'ourselves', 'you', \"you're\", \"you've\", \"you'll\", \"you'd\", 'your', 'yours', 'yourself',\n",
    "'yourselves', 'he', 'him', 'his', 'himself', 'she', \"she's\", 'her', 'hers', 'herself', 'it', \"it's\", 'its', 'itself', 'they', 'them',\n",
    "'their', 'theirs', 'themselves', 'what', 'which', 'who', 'whom', 'this', 'that', \"that'll\", 'these', 'those', 'am', 'is', 'are', 'was',\n",
    "'were', 'be', 'been', 'being', 'have', 'has', 'had', 'having', 'do', 'does', 'did', 'doing', 'a', 'an', 'the', 'and', 'but', 'if', 'or',\n",
    "'because', 'as', 'until', 'while', 'of', 'at', 'by', 'for', 'with', 'about', 'against', 'between', 'into', 'through', 'during', 'before',\n",
    "'after', 'above', 'below', 'to', 'from', 'up', 'down', 'in', 'out', 'on', 'off', 'over', 'under', 'again', 'further', 'then', 'once',\n",
    "'here', 'there', 'when', 'where', 'why', 'how', 'all', 'any', 'both', 'each', 'few', 'more', 'most', 'other', 'some', 'such', 'no',\n",
    "'nor', 'not', 'only', 'own', 'same', 'so', 'than', 'too', 'very', 's', 't', 'can', 'will', 'just', 'don', \"don't\", 'should',\n",
    "\"should've\", 'now', 'd', 'll', 'm', 'o', 're', 've', 'y', 'ain', 'aren', \"aren't\", 'couldn', \"couldn't\", 'didn', \"didn't\",\n",
    "'doesn', \"doesn't\", 'hadn', \"hadn't\", 'hasn', \"hasn't\", 'haven', \"haven't\", 'isn', \"isn't\", 'ma', 'mightn', \"mightn't\",\n",
    "'mustn', \"mustn't\", 'needn', \"needn't\", 'shan', \"shan't\", 'shouldn', \"shouldn't\", 'wasn', \"wasn't\", 'weren', \"weren't\", 'won',\n",
    "\"won't\", 'wouldn', \"wouldn't\"]"
   ]
  },
  {
   "cell_type": "code",
   "execution_count": 6,
   "metadata": {
    "collapsed": true
   },
   "outputs": [],
   "source": [
    "def clean(text):\n",
    "    normalizer = Normalizer()\n",
    "    # Remove URLs, User Mentions and Hashtags and Retweet and Number\n",
    "    text = normalizer.normalize(text)\n",
    "    text = ''.join(ch for ch, _ in itertools.groupby(text))\n",
    "    # Remove Punctuation\n",
    "    #text = re.sub(r'[^\\w\\s]', '', text)\n",
    "    return text"
   ]
  },
  {
   "cell_type": "code",
   "execution_count": 86,
   "metadata": {
    "collapsed": true
   },
   "outputs": [],
   "source": [
    "emojien={'angry':['>:-[', ':-@', ']:[', '=@', '>=-[', ']:-(', ']=-[', ']=(', ' ]:-[', ']:(', ':@', '>:(', '>=-(', ']=[', '>=(', '=-@', '>:-(', ']=-(', '>=[', '>:['],\n",
    "   'happy':[':\")', 'X-)', 'X)', ':,-)', 'x-]', \"='D\", '=,-]', '=)', ':,)', '=\"D', '=,D', '=-\")', '=D', \"='-D\", ':\"D', ':,D', \":'-)\", \"=')\", ':D', '=-\"D', ':-)', 'x]', '=-D', '=,)', ':)', 'X-D', ':-]', ':-\")', '=,-D', 'x)', '=\"]', ':,]', ':-D', '=\")', ':,-D', '=-]', 'X]', \":']\", \":'-]\", '=,]', 'X-]', ':-\"]', ':,-]', \"='-)\", '=-)', ':\"]', \":')\", '=]', ':]', '=,-)', \"=']\", 'x-D', ':-\"D', '=-\"]', \"='-]\", 'x-)', 'xD','Xp', \"'=-]\", ',:D', ';-p', \"':-)\", ';-d', '=p', ',=-)', \"'=]\", \"':-D\", '=-P', 'Xd', 'X-d', ';]', ';-D', 'x-p', \"'=-D\", ',=]', \"':-]\", ':p', 'x-P', ',=-]', \"':]\", ',:-)', \"':D\", 'X-p', ':P', \"'=-)\", 'xP', \"':)\", '=-d', 'X-P', ':-d', ';P', ';-P', ',:]', ';p', ';)', ',=)', ',:-]', \"'=D\", ';-)', ';D', '=d', ',:-D', \"'=)\", '=P', ',:)', ',=-D', ';-]', ':-p', ':d', ';d', 'x-d', ',=D', '=-p', ':-P'],\n",
    "   'confused':[':/', ':-/', '=/', '=-/'],\n",
    "   'sad':['</3',':,(',':,[',':,|',':,-(',':,-[',':,-|',\":'(\",\":'[\",\":'|\",\":'-(\",\":'-[\",\":'-|\",\"=,(\", \"=,[\",\" =,|\", \"=,-(\", \"=,-[\", \"=,-|\", \"='(\", \"='[\", \"='|\", \"='-(\", \"='-[\", \"='-|\"],\n",
    "   'disappointed':[':(', ':[', ':-(', ':-[',' =(', '=[',' =-(', '=-['],\n",
    "   'innocent':['0=]', 'o:]', 'O=D', 'O=-)', '0:-D', '0:-]', 'o=-]', 'O=)', '0=)', '0:)', '0:D', 'O:-]', 'O:D', 'o:-)', 'o:D', 'o:-]', '0=D', 'O=-]', 'o=-D', 'o=-)', 'O:-)', 'o:)', 'o=D', 'O=-D', 'O:]', 'o=]', ' O:-D', 'o:-D', '0:-)', '0=-]', '0:]', 'O:)', 'o=)', '0=-D', '0=-)', 'O=]'],\n",
    "   'love':[':*', ':-*', '=*', '=-*','<3'],\n",
    "   'man':[':3', ':-3', '=3', '=-3',';3', ';-3', 'x3', 'x-3', 'X3', 'X-3'],\n",
    "   'neutral_face':[':|', ':-|', '=|', '=-|'],\n",
    "   'mute':[':-'],\n",
    "   'surprise':[':o', ':O', ':0', ':-o', ':-O', ':-0', '=o', '=O', '=0', '=-o', '=-O', '=-0'],\n",
    "   'naughty':[']:]', ']:-]', ']=-)', ']=D', ']:-)', ']:)', ']=)', ']=]', ']=-]', ']=-D', ']:-D', ']:D'],\n",
    "   'very sad':[\":',(\", \"=,'(\", \":',-(\", \"=,'[\", \"=',-[\", \":,'[\", \"=,'-(\", \"=,'-[\", \"=',-(\", \":,'(\", \":,'-(\", \":',[\", \"=',[\", \":',-[\", \"=',(\", \":,'-[\"],\n",
    "   'cool':['8)', '8]', '8D',' 8-)', '8-]', '8-D', 'B)', 'B]', 'B-)', 'B-]', 'B-D'],\n",
    "   'embarrassing':[',:(', ',:[', ',:-(', ',:-[',' ,=(', ',=[', ',=-(', ',=-[', \"':(\", \"':[\", \"':-(\", \"':-[\", \"'=(\", \"'=[\", \"'=-(\", \"'=-[\"],\n",
    "   'unamused':[':$', ':s', ':z', ':S', ':Z', ':-$', ':-s', ':-z', ':-S', ':-Z', '=$', '=s', '=z', '=S', '=Z', '=-$', '=-s', '=-z', '=-S', '=-Z'],  \n",
    "    }"
   ]
  },
  {
   "cell_type": "code",
   "execution_count": 87,
   "metadata": {},
   "outputs": [],
   "source": [
    "emojifa={'خشمگین':['>:-[', ':-@', ']:[', '=@', '>=-[', ']:-(', ']=-[', ']=(', ' ]:-[', ']:(', ':@', '>:(', '>=-(', ']=[', '>=(', '=-@', '>:-(', ']=-(', '>=[', '>:['],\n",
    "   'خوشحال':[':\")', 'X-)', 'X)', ':,-)', 'x-]', \"='D\", '=,-]', '=)', ':,)', '=\"D', '=,D', '=-\")', '=D', \"='-D\", ':\"D', ':,D', \":'-)\", \"=')\", ':D', '=-\"D', ':-)', 'x]', '=-D', '=,)', ':)', 'X-D', ':-]', ':-\")', '=,-D', 'x)', '=\"]', ':,]', ':-D', '=\")', ':,-D', '=-]', 'X]', \":']\", \":'-]\", '=,]', 'X-]', ':-\"]', ':,-]', \"='-)\", '=-)', ':\"]', \":')\", '=]', ':]', '=,-)', \"=']\", 'x-D', ':-\"D', '=-\"]', \"='-]\", 'x-)', 'xD','Xp', \"'=-]\", ',:D', ';-p', \"':-)\", ';-d', '=p', ',=-)', \"'=]\", \"':-D\", '=-P', 'Xd', 'X-d', ';]', ';-D', 'x-p', \"'=-D\", ',=]', \"':-]\", ':p', 'x-P', ',=-]', \"':]\", ',:-)', \"':D\", 'X-p', ':P', \"'=-)\", 'xP', \"':)\", '=-d', 'X-P', ':-d', ';P', ';-P', ',:]', ';p', ';)', ',=)', ',:-]', \"'=D\", ';-)', ';D', '=d', ',:-D', \"'=)\", '=P', ',:)', ',=-D', ';-]', ':-p', ':d', ';d', 'x-d', ',=D', '=-p', ':-P'],\n",
    "   'سردرگم':[':/', ':-/', '=/', '=-/'],\n",
    "   'ناراحت':['</3',':,(',':,[',':,|',':,-(',':,-[',':,-|',\":'(\",\":'[\",\":'|\",\":'-(\",\":'-[\",\":'-|\",\"=,(\", \"=,[\",\" =,|\", \"=,-(\", \"=,-[\", \"=,-|\", \"='(\", \"='[\", \"='|\", \"='-(\", \"='-[\", \"='-|\"],\n",
    "   'ناامید':[':(', ':[', ':-(', ':-[',' =(', '=[',' =-(', '=-['],\n",
    "   'معصومانه':['0=]', 'o:]', 'O=D', 'O=-)', '0:-D', '0:-]', 'o=-]', 'O=)', '0=)', '0:)', '0:D', 'O:-]', 'O:D', 'o:-)', 'o:D', 'o:-]', '0=D', 'O=-]', 'o=-D', 'o=-)', 'O:-)', 'o:)', 'o=D', 'O=-D', 'O:]', 'o=]', ' O:-D', 'o:-D', '0:-)', '0=-]', '0:]', 'O:)', 'o=)', '0=-D', '0=-)', 'O=]'],\n",
    "   'عشق':[':*', ':-*', '=*', '=-*','<3'],\n",
    "   'مرد':[':3', ':-3', '=3', '=-3',';3', ';-3', 'x3', 'x-3', 'X3', 'X-3'],\n",
    "   'چهره خنثی':[':|', ':-|', '=|', '=-|'],\n",
    "   'ساکت':[':-'],\n",
    "   'متعجب':[':o', ':O', ':0', ':-o', ':-O', ':-0', '=o', '=O', '=0', '=-o', '=-O', '=-0'],\n",
    "   'شیطون':[']:]', ']:-]', ']=-)', ']=D', ']:-)', ']:)', ']=)', ']=]', ']=-]', ']=-D', ']:-D', ']:D'],\n",
    "   'بسیار ناراحت':[\":',(\", \"=,'(\", \":',-(\", \"=,'[\", \"=',-[\", \":,'[\", \"=,'-(\", \"=,'-[\", \"=',-(\", \":,'(\", \":,'-(\", \":',[\", \"=',[\", \":',-[\", \"=',(\", \":,'-[\"],\n",
    "   'خونسرد':['8)', '8]', '8D',' 8-)', '8-]', '8-D', 'B)', 'B]', 'B-)', 'B-]', 'B-D'],\n",
    "   'شرم آور':[',:(', ',:[', ',:-(', ',:-[',' ,=(', ',=[', ',=-(', ',=-[', \"':(\", \"':[\", \"':-(\", \"':-[\", \"'=(\", \"'=[\", \"'=-(\", \"'=-[\"],\n",
    "   'خسته کننده':[':$', ':s', ':z', ':S', ':Z', ':-$', ':-s', ':-z', ':-S', ':-Z', '=$', '=s', '=z', '=S', '=Z', '=-$', '=-s', '=-z', '=-S', '=-Z'],  \n",
    "   \n",
    "   }"
   ]
  },
  {
   "cell_type": "code",
   "execution_count": 88,
   "metadata": {},
   "outputs": [],
   "source": [
    "text=\"hi ali where are you :)))))\""
   ]
  },
  {
   "cell_type": "code",
   "execution_count": 89,
   "metadata": {},
   "outputs": [],
   "source": [
    "\n",
    "from langdetect import detect,detect_langs  \n"
   ]
  },
  {
   "cell_type": "code",
   "execution_count": 90,
   "metadata": {},
   "outputs": [],
   "source": [
    "text2='  سلام علی  :)))) گفتم بیا بریم بیرون . فردا میای بیرون :d'"
   ]
  },
  {
   "cell_type": "code",
   "execution_count": 99,
   "metadata": {},
   "outputs": [],
   "source": [
    "def emoji_detect(text):\n",
    "    text_list=text.split()\n",
    "    clean_list=[]\n",
    "    if detect(text)=='en':\n",
    "\n",
    "        for item in text_list:\n",
    "            if item not in stwden:\n",
    "                clean_list.append(''.join(ch for ch, _ in itertools.groupby(item)))\n",
    "            for item in emojien:\n",
    "                for i in emojien[item]:\n",
    "                    for c in clean_list:\n",
    "                        if i==c:\n",
    "                            clean_list = list(map(lambda x: x.replace(c, '('+item+\")\"), clean_list))\n",
    "    elif detect(text)=='fa':\n",
    "        for item in text_list:\n",
    "            if item not in stwdfa:\n",
    "                clean_list.append(''.join(ch for ch, _ in itertools.groupby(item)))\n",
    "        for item in emojifa:\n",
    "            for i in emojifa[item]:\n",
    "                for c in clean_list:\n",
    "                    if i==c:\n",
    "                        clean_list = list(map(lambda x: x.replace(c, '('+item+\")\"), clean_list))\n",
    "    return ' '.join(clean_list)\n",
    "        "
   ]
  },
  {
   "cell_type": "code",
   "execution_count": 101,
   "metadata": {},
   "outputs": [
    {
     "data": {
      "text/plain": [
       "'hi ali (happy)'"
      ]
     },
     "execution_count": 101,
     "metadata": {},
     "output_type": "execute_result"
    }
   ],
   "source": [
    "emoji_detect(text)"
   ]
  }
 ],
 "metadata": {
  "kernelspec": {
   "display_name": "text",
   "language": "python",
   "name": "python3"
  },
  "language_info": {
   "codemirror_mode": {
    "name": "ipython",
    "version": 3
   },
   "file_extension": ".py",
   "mimetype": "text/x-python",
   "name": "python",
   "nbconvert_exporter": "python",
   "pygments_lexer": "ipython3",
   "version": "3.10.8"
  },
  "vscode": {
   "interpreter": {
    "hash": "01cd5a94d1ba713b2c85bd21f7e8b8938a9a25f239d66c45beafb220608893c0"
   }
  }
 },
 "nbformat": 4,
 "nbformat_minor": 2
}
